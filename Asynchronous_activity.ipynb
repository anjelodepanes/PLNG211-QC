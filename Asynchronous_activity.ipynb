{
  "nbformat": 4,
  "nbformat_minor": 0,
  "metadata": {
    "colab": {
      "provenance": [],
      "authorship_tag": "ABX9TyPgoCiXxRrE2VlJwqRW6Je2",
      "include_colab_link": true
    },
    "kernelspec": {
      "name": "python3",
      "display_name": "Python 3"
    },
    "language_info": {
      "name": "python"
    }
  },
  "cells": [
    {
      "cell_type": "markdown",
      "metadata": {
        "id": "view-in-github",
        "colab_type": "text"
      },
      "source": [
        "<a href=\"https://colab.research.google.com/github/anjelodepanes/PLNG211-QC/blob/main/Asynchronous_activity.ipynb\" target=\"_parent\"><img src=\"https://colab.research.google.com/assets/colab-badge.svg\" alt=\"Open In Colab\"/></a>"
      ]
    },
    {
      "cell_type": "code",
      "source": [
        "Salary_rate = 600\n",
        "Salary = Salary_rate * 15\n",
        "Taxable_amount = Salary * 0.30\n",
        "Net_pay = Salary - Taxable_amount\n",
        "\n",
        "print('Netpay: ',Net_pay)\n"
      ],
      "metadata": {
        "id": "vaB4PdlATLFr",
        "outputId": "ce2047b7-fddf-49c5-afa0-85e3761da52d",
        "colab": {
          "base_uri": "https://localhost:8080/"
        }
      },
      "execution_count": 27,
      "outputs": [
        {
          "output_type": "stream",
          "name": "stdout",
          "text": [
            "Netpay:  6300.0\n"
          ]
        }
      ]
    }
  ]
}