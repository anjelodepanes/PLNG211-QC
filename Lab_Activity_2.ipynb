{
  "nbformat": 4,
  "nbformat_minor": 0,
  "metadata": {
    "colab": {
      "provenance": [],
      "authorship_tag": "ABX9TyOIz4yxV8krecU3RpKZNo9y",
      "include_colab_link": true
    },
    "kernelspec": {
      "name": "python3",
      "display_name": "Python 3"
    },
    "language_info": {
      "name": "python"
    }
  },
  "cells": [
    {
      "cell_type": "markdown",
      "metadata": {
        "id": "view-in-github",
        "colab_type": "text"
      },
      "source": [
        "<a href=\"https://colab.research.google.com/github/anjelodepanes/PLNG211-QC/blob/main/Lab_Activity_2.ipynb\" target=\"_parent\"><img src=\"https://colab.research.google.com/assets/colab-badge.svg\" alt=\"Open In Colab\"/></a>"
      ]
    },
    {
      "cell_type": "code",
      "execution_count": 6,
      "metadata": {
        "colab": {
          "base_uri": "https://localhost:8080/"
        },
        "id": "7c7P7z51WivS",
        "outputId": "0c5975bb-2ed5-44e3-f621-0b7a29038581"
      },
      "outputs": [
        {
          "output_type": "stream",
          "name": "stdout",
          "text": [
            "Name: Anjelo B. Depanes\n",
            "Student Number: 02210004341\n",
            "Age: 21\n",
            "School: Our Lady of Fatima University\n",
            "Course: Bachelor of Science in Computer Science\n"
          ]
        }
      ],
      "source": [
        "class Student:\n",
        "\n",
        "  def __init__(student, Name, Student_No , Age, School, Course):\n",
        "    student.name = Name\n",
        "    student.Student_No = Student_No\n",
        "    student.Age = Age\n",
        "    student.School = School\n",
        "    student.Course = Course\n",
        "\n",
        "  def info(student):\n",
        "    print(\"Name:\",student.name)\n",
        "    print(\"Student Number:\",student.Student_No)\n",
        "    print(\"Age:\",student.Age)\n",
        "    print(\"School:\", student.School)\n",
        "    print(\"Course:\", student.Course)\n",
        "\n",
        "Myself = Student(\"Anjelo B. Depanes\", \"02210004341\", 21, \"Our Lady of Fatima University\", \"Bachelor of Science in Computer Science\")\n",
        "Myself.info()"
      ]
    }
  ]
}