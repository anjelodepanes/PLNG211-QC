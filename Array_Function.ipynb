{
  "nbformat": 4,
  "nbformat_minor": 0,
  "metadata": {
    "colab": {
      "provenance": [],
      "include_colab_link": true
    },
    "kernelspec": {
      "name": "python3",
      "display_name": "Python 3"
    },
    "language_info": {
      "name": "python"
    }
  },
  "cells": [
    {
      "cell_type": "markdown",
      "metadata": {
        "id": "view-in-github",
        "colab_type": "text"
      },
      "source": [
        "<a href=\"https://colab.research.google.com/github/anjelodepanes/PLNG211-QC/blob/main/Array_Function.ipynb\" target=\"_parent\"><img src=\"https://colab.research.google.com/assets/colab-badge.svg\" alt=\"Open In Colab\"/></a>"
      ]
    },
    {
      "cell_type": "code",
      "execution_count": null,
      "metadata": {
        "colab": {
          "base_uri": "https://localhost:8080/"
        },
        "id": "OsgO2nXwYZKc",
        "outputId": "c7adc45c-f8b1-4fa7-ae25-1cbce2bd51c6"
      },
      "outputs": [
        {
          "output_type": "stream",
          "name": "stdout",
          "text": [
            "100\n",
            "Celsius 37.78\n",
            "kelvin 310.93\n"
          ]
        }
      ],
      "source": [
        "#writing your own function/conversion\n",
        "def convert_to_celcius(fahrenheit):\n",
        "  return (fahrenheit-32) * 5/9\n",
        "\n",
        "def convert_to_kelvin(fahrenheit):\n",
        "  return ((fahrenheit -32) *5/9) + 273.15\n",
        "fahrenheit = int(input())\n",
        "\n",
        "print(\"Celsius\",round(convert_to_celcius(fahrenheit),2))\n",
        "print(\"kelvin\",round(convert_to_kelvin(fahrenheit),2))"
      ]
    },
    {
      "cell_type": "code",
      "source": [
        "def Name():\n",
        "  pass"
      ],
      "metadata": {
        "id": "F_j0QAKRY4LI"
      },
      "execution_count": null,
      "outputs": []
    },
    {
      "cell_type": "code",
      "source": [
        "def my_function(fname):\n",
        "  return(fname + \"Sayo \")\n",
        "\n",
        "my_function(\" Mam\")\n",
        "my_function(\" Maria\")\n",
        "my_function(\" Rizette\")"
      ],
      "metadata": {
        "colab": {
          "base_uri": "https://localhost:8080/",
          "height": 36
        },
        "id": "pXCEU-XxZA8c",
        "outputId": "9c3953e4-228c-4aa5-dac8-d61aa3f5bc29"
      },
      "execution_count": null,
      "outputs": [
        {
          "output_type": "execute_result",
          "data": {
            "text/plain": [
              "' RizetteSayo '"
            ],
            "application/vnd.google.colaboratory.intrinsic+json": {
              "type": "string"
            }
          },
          "metadata": {},
          "execution_count": 6
        }
      ]
    },
    {
      "cell_type": "code",
      "source": [
        "#return a value\n",
        "\n",
        "def my_function(x):\n",
        "  return(5+x)\n",
        "\n",
        "print(my_function(4))\n",
        "print(my_function(5))\n",
        "print(my_function(6))"
      ],
      "metadata": {
        "colab": {
          "base_uri": "https://localhost:8080/"
        },
        "id": "qkyxfpO5ZDy7",
        "outputId": "0a3434cd-ca1f-427a-f172-9959cc10c200"
      },
      "execution_count": null,
      "outputs": [
        {
          "output_type": "stream",
          "name": "stdout",
          "text": [
            "9\n",
            "10\n",
            "11\n"
          ]
        }
      ]
    },
    {
      "cell_type": "code",
      "source": [
        "#Exercise 1\n",
        "\n",
        "print(min(2, 3,4,))\n",
        "print(max(2, -3, 4, 7, -5))\n",
        "print(max(2, -3, min(4, 7), -5))\n"
      ],
      "metadata": {
        "colab": {
          "base_uri": "https://localhost:8080/"
        },
        "id": "TNdC2vrLbqvc",
        "outputId": "472461b3-e294-42df-eb65-47729e63b267"
      },
      "execution_count": null,
      "outputs": [
        {
          "output_type": "stream",
          "name": "stdout",
          "text": [
            "2\n",
            "7\n",
            "4\n"
          ]
        }
      ]
    },
    {
      "cell_type": "code",
      "source": [
        "#Exercise 2\n",
        "import math\n",
        "\n",
        "def sum(firstInt,secondInt,thirdInt):\n",
        "  return firstInt + secondInt + thirdInt\n",
        "def average(firstInt,secondInt,thirdInt):\n",
        "  return firstInt + secondInt + thirdInt/3\n",
        "def sumSquare(firstInt,secondInt,thirdInt):\n",
        "  return math.pow(firstInt,2) + math.pow(secondInt,2) + math.pow(thirdInt,2)\n",
        "\n",
        "firstInt= int(input())\n",
        "secondInt= int(input())\n",
        "thirdInt= int(input())\n",
        "\n",
        "print(\"Sum =\",sum(firstInt,secondInt,thirdInt))\n",
        "print(\"Average =\",average(firstInt,secondInt,thirdInt))\n",
        "print(\"Sum of Squares =\",sumSquare(firstInt,secondInt,thirdInt))"
      ],
      "metadata": {
        "colab": {
          "base_uri": "https://localhost:8080/"
        },
        "id": "xJNonJ9ZeuIS",
        "outputId": "0be30bcd-aa3d-4b95-fa47-dd61781e28d1"
      },
      "execution_count": null,
      "outputs": [
        {
          "output_type": "stream",
          "name": "stdout",
          "text": [
            "5\n",
            "5\n",
            "5\n",
            "Sum = 15\n",
            "Average = 11.666666666666666\n",
            "Sum of Squares = 75.0\n"
          ]
        }
      ]
    }
  ]
}