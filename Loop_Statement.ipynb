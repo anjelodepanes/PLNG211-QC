{
  "nbformat": 4,
  "nbformat_minor": 0,
  "metadata": {
    "colab": {
      "provenance": [],
      "authorship_tag": "ABX9TyPVnzJ6Nb7iAcT5KSZ8RmRj",
      "include_colab_link": true
    },
    "kernelspec": {
      "name": "python3",
      "display_name": "Python 3"
    },
    "language_info": {
      "name": "python"
    }
  },
  "cells": [
    {
      "cell_type": "markdown",
      "metadata": {
        "id": "view-in-github",
        "colab_type": "text"
      },
      "source": [
        "<a href=\"https://colab.research.google.com/github/anjelodepanes/PLNG211-QC/blob/main/Loop_Statement.ipynb\" target=\"_parent\"><img src=\"https://colab.research.google.com/assets/colab-badge.svg\" alt=\"Open In Colab\"/></a>"
      ]
    },
    {
      "cell_type": "code",
      "source": [
        "#break statement\n",
        "i=1\n",
        "while i<6:\n",
        "  print(i)\n",
        "  if i==3:\n",
        "    break\n",
        "  i+=1      #increment, i=i+1"
      ],
      "metadata": {
        "colab": {
          "base_uri": "https://localhost:8080/"
        },
        "id": "-cLQn2vT3abA",
        "outputId": "afd17c3a-e62a-427e-aefa-3ae9134fe160"
      },
      "execution_count": 13,
      "outputs": [
        {
          "output_type": "stream",
          "name": "stdout",
          "text": [
            "1\n",
            "2\n",
            "3\n"
          ]
        }
      ]
    },
    {
      "cell_type": "code",
      "source": [
        "#break statement Application 1\n",
        "# Display only 3 after using break statement\n",
        "\n",
        "i = 1\n",
        "while i<6:\n",
        "  if i==3:\n",
        "    print(i)\n",
        "    break\n",
        "  i+=1"
      ],
      "metadata": {
        "colab": {
          "base_uri": "https://localhost:8080/"
        },
        "id": "y67aHeax4v24",
        "outputId": "971a5b58-5924-49e2-d05a-12b39a974d4d"
      },
      "execution_count": 14,
      "outputs": [
        {
          "output_type": "stream",
          "name": "stdout",
          "text": [
            "3\n"
          ]
        }
      ]
    },
    {
      "cell_type": "code",
      "source": [
        "#continue statement\n",
        "i=0\n",
        "while i<6:\n",
        "  i+=1\n",
        "  if i==3:\n",
        "    continue\n",
        "  print(i)"
      ],
      "metadata": {
        "colab": {
          "base_uri": "https://localhost:8080/"
        },
        "id": "H_3_nK5G6Xjt",
        "outputId": "4d66a338-30ea-4e90-9d97-44e54082167e"
      },
      "execution_count": 15,
      "outputs": [
        {
          "output_type": "stream",
          "name": "stdout",
          "text": [
            "1\n",
            "2\n",
            "4\n",
            "5\n",
            "6\n"
          ]
        }
      ]
    },
    {
      "cell_type": "code",
      "source": [
        "#else statement\n",
        "i=1\n",
        "while i<6:\n",
        "  print(i)\n",
        "  i+=1\n",
        "else:\n",
        "  print(\"i is no longer less than 6\")"
      ],
      "metadata": {
        "colab": {
          "base_uri": "https://localhost:8080/"
        },
        "id": "j8jg56dq7BKK",
        "outputId": "287c6737-f348-40b2-afb0-6dc2de2de6e1"
      },
      "execution_count": 16,
      "outputs": [
        {
          "output_type": "stream",
          "name": "stdout",
          "text": [
            "1\n",
            "2\n",
            "3\n",
            "4\n",
            "5\n",
            "i is no longer less than 6\n"
          ]
        }
      ]
    },
    {
      "cell_type": "code",
      "source": [
        "#Application 2\n",
        "i=0\n",
        "while i <= 10:\n",
        "  print(\"Hello \", +i)\n",
        "  i+=1  "
      ],
      "metadata": {
        "colab": {
          "base_uri": "https://localhost:8080/"
        },
        "id": "PGsl29Dw8KTg",
        "outputId": "f2c3107e-3a93-4ac5-faac-e7edb8f625a3"
      },
      "execution_count": 20,
      "outputs": [
        {
          "output_type": "stream",
          "name": "stdout",
          "text": [
            "Hello  0\n",
            "Hello  1\n",
            "Hello  2\n",
            "Hello  3\n",
            "Hello  4\n",
            "Hello  5\n",
            "Hello  6\n",
            "Hello  7\n",
            "Hello  8\n",
            "Hello  9\n",
            "Hello  10\n"
          ]
        }
      ]
    },
    {
      "cell_type": "code",
      "source": [
        "#Application 3\n",
        "for i in range(3,10):\n",
        "  print(i)\n",
        "\n",
        "i=9\n",
        "while i<10 and i>=3:\n",
        "  print(i)\n",
        "  i-=1"
      ],
      "metadata": {
        "colab": {
          "base_uri": "https://localhost:8080/"
        },
        "id": "MEW5T9FZ-Pxt",
        "outputId": "c915e71b-21f4-4102-af33-d97a33e283bf"
      },
      "execution_count": 30,
      "outputs": [
        {
          "output_type": "stream",
          "name": "stdout",
          "text": [
            "3\n",
            "4\n",
            "5\n",
            "6\n",
            "7\n",
            "8\n",
            "9\n",
            "9\n",
            "8\n",
            "7\n",
            "6\n",
            "5\n",
            "4\n",
            "3\n"
          ]
        }
      ]
    }
  ]
}